{
 "cells": [
  {
   "cell_type": "code",
   "execution_count": 5,
   "id": "b0411f5b-39cd-4f07-b240-7800c37353af",
   "metadata": {},
   "outputs": [],
   "source": [
    "import nltk"
   ]
  },
  {
   "cell_type": "code",
   "execution_count": 14,
   "id": "92224d5d-347f-4b3d-ac85-49e847420e57",
   "metadata": {},
   "outputs": [
    {
     "name": "stderr",
     "output_type": "stream",
     "text": [
      "[nltk_data] Downloading package words to\n",
      "[nltk_data]     C:\\Users\\bnables\\AppData\\Roaming\\nltk_data...\n",
      "[nltk_data]   Package words is already up-to-date!\n",
      "[nltk_data] Downloading package brown to\n",
      "[nltk_data]     C:\\Users\\bnables\\AppData\\Roaming\\nltk_data...\n",
      "[nltk_data]   Unzipping corpora\\brown.zip.\n"
     ]
    },
    {
     "data": {
      "text/plain": [
       "True"
      ]
     },
     "execution_count": 14,
     "metadata": {},
     "output_type": "execute_result"
    }
   ],
   "source": [
    "nltk.download('words')\n",
    "nltk.download('brown')"
   ]
  },
  {
   "cell_type": "code",
   "execution_count": 19,
   "id": "7b750cf2-3204-4eb7-9d7b-5dcb0d06c6ce",
   "metadata": {},
   "outputs": [],
   "source": [
    "from nltk.corpus import words"
   ]
  },
  {
   "cell_type": "code",
   "execution_count": 20,
   "id": "d2e99b39-e42f-4298-a7bf-3b328928dced",
   "metadata": {},
   "outputs": [],
   "source": [
    "from nltk.corpus import stopwords"
   ]
  },
  {
   "cell_type": "code",
   "execution_count": 21,
   "id": "fb3e5930-094c-49bc-a720-e845afdc8de7",
   "metadata": {},
   "outputs": [],
   "source": [
    "words = words.words()"
   ]
  },
  {
   "cell_type": "code",
   "execution_count": 22,
   "id": "db6556c9-be1e-4dfd-bc79-6803de15201e",
   "metadata": {},
   "outputs": [
    {
     "data": {
      "text/plain": [
       "True"
      ]
     },
     "execution_count": 22,
     "metadata": {},
     "output_type": "execute_result"
    }
   ],
   "source": [
    "'dog' in words"
   ]
  },
  {
   "cell_type": "code",
   "execution_count": 24,
   "id": "b53aa65d-501a-4d49-9792-b2144d9c07c2",
   "metadata": {},
   "outputs": [],
   "source": [
    "stopwords = stopwords.words()"
   ]
  },
  {
   "cell_type": "code",
   "execution_count": 11,
   "id": "91cad750-5d9c-456f-971a-ff392034e9c5",
   "metadata": {},
   "outputs": [],
   "source": [
    "words5 = [w for w in words if len(w) == 5]"
   ]
  },
  {
   "cell_type": "code",
   "execution_count": 26,
   "id": "c69242eb-db9c-4f73-a76e-609807844276",
   "metadata": {},
   "outputs": [],
   "source": [
    "from nltk import FreqDist\n",
    "from nltk.corpus import brown"
   ]
  },
  {
   "cell_type": "code",
   "execution_count": 61,
   "id": "dbf7420b-92b7-428d-912f-54d673ea3679",
   "metadata": {},
   "outputs": [],
   "source": [
    "frequency_list = FreqDist(i.lower() for i in brown.words() if len(i) == 5 and i not in stopwords and i == i.lower())"
   ]
  },
  {
   "cell_type": "code",
   "execution_count": 62,
   "id": "ea34beba-779d-4ad1-8c60-f2cad09072e1",
   "metadata": {},
   "outputs": [],
   "source": [
    "fives = [w for w, n in frequency_list.most_common()]"
   ]
  },
  {
   "cell_type": "code",
   "execution_count": 63,
   "id": "be42ed4d-324f-4987-a8b2-d8914f2c1d46",
   "metadata": {},
   "outputs": [
    {
     "data": {
      "text/plain": [
       "['would',\n",
       " 'could',\n",
       " 'first',\n",
       " 'years',\n",
       " 'still',\n",
       " 'world',\n",
       " 'might',\n",
       " 'never',\n",
       " 'great',\n",
       " 'right']"
      ]
     },
     "execution_count": 63,
     "metadata": {},
     "output_type": "execute_result"
    }
   ],
   "source": [
    "fives[:10]"
   ]
  },
  {
   "cell_type": "code",
   "execution_count": 64,
   "id": "4f8ce597-43b5-4e39-9fcc-911f940ec821",
   "metadata": {},
   "outputs": [
    {
     "data": {
      "text/plain": [
       "3189"
      ]
     },
     "execution_count": 64,
     "metadata": {},
     "output_type": "execute_result"
    }
   ],
   "source": [
    "len(fives)"
   ]
  },
  {
   "cell_type": "code",
   "execution_count": 65,
   "id": "0f1b55ec-7629-4af1-b9db-53f0b0b113cb",
   "metadata": {},
   "outputs": [],
   "source": [
    "from numpy.random import randint"
   ]
  },
  {
   "cell_type": "code",
   "execution_count": 66,
   "id": "31c697bc-737f-4973-bc4b-b11994fe594d",
   "metadata": {},
   "outputs": [
    {
     "data": {
      "text/plain": [
       "1970"
      ]
     },
     "execution_count": 66,
     "metadata": {},
     "output_type": "execute_result"
    }
   ],
   "source": [
    "randint(len(fives))"
   ]
  },
  {
   "cell_type": "code",
   "execution_count": 67,
   "id": "22789bf8-a86b-496c-bf25-3491a1307f88",
   "metadata": {},
   "outputs": [],
   "source": [
    "from IPython.display import HTML, display"
   ]
  },
  {
   "cell_type": "code",
   "execution_count": 68,
   "id": "40071e9d-8b24-4a2c-a049-18c472480cf6",
   "metadata": {},
   "outputs": [
    {
     "data": {
      "text/html": [
       "This <span style='background-color:green'>word</span> is green!"
      ],
      "text/plain": [
       "<IPython.core.display.HTML object>"
      ]
     },
     "execution_count": 68,
     "metadata": {},
     "output_type": "execute_result"
    }
   ],
   "source": [
    "HTML(\"This <span style='background-color:green'>word</span> is green!\")"
   ]
  },
  {
   "cell_type": "code",
   "execution_count": 71,
   "id": "603a2020-e4b9-4df4-941e-3668e1264c20",
   "metadata": {},
   "outputs": [],
   "source": [
    "def wordle():\n",
    "    i = randint(len(fives)//2)\n",
    "    word = fives[i]\n",
    "    print(\"debug:\", word)\n",
    "    \n",
    "    playing = True\n",
    "    while playing:\n",
    "        entry = input('Enter your guess:')\n",
    "        if len(entry) != 5:\n",
    "            print('Please enter 5 characters')\n",
    "            continue\n",
    "        else:\n",
    "            text = \"\"\n",
    "            score = 0\n",
    "            for i, char in enumerate(entry):\n",
    "                if char == word[i]:\n",
    "                    text += f\"<span style='background-color:green'>{char}</span>\"\n",
    "                    score += 1\n",
    "                elif char in word:\n",
    "                    text += f\"<span style='background-color:yellow'>{char}</span>\"\n",
    "                else:\n",
    "                    text += char\n",
    "                    \n",
    "        display(HTML(text))\n",
    "        if score == 5:\n",
    "            print('Congratulations!')\n",
    "            break"
   ]
  },
  {
   "cell_type": "code",
   "execution_count": 72,
   "id": "194dfb20-dd03-4a1d-8a57-e86d2b52661b",
   "metadata": {},
   "outputs": [
    {
     "name": "stdout",
     "output_type": "stream",
     "text": [
      "debug: torso\n"
     ]
    },
    {
     "name": "stdin",
     "output_type": "stream",
     "text": [
      "Enter your guess: tempo\n"
     ]
    },
    {
     "data": {
      "text/html": [
       "<span style='background-color:green'>t</span>emp<span style='background-color:green'>o</span>"
      ],
      "text/plain": [
       "<IPython.core.display.HTML object>"
      ]
     },
     "metadata": {},
     "output_type": "display_data"
    },
    {
     "name": "stdin",
     "output_type": "stream",
     "text": [
      "Enter your guess: torko\n"
     ]
    },
    {
     "data": {
      "text/html": [
       "<span style='background-color:green'>t</span><span style='background-color:green'>o</span><span style='background-color:green'>r</span>k<span style='background-color:green'>o</span>"
      ],
      "text/plain": [
       "<IPython.core.display.HTML object>"
      ]
     },
     "metadata": {},
     "output_type": "display_data"
    },
    {
     "name": "stdin",
     "output_type": "stream",
     "text": [
      "Enter your guess: torso\n"
     ]
    },
    {
     "data": {
      "text/html": [
       "<span style='background-color:green'>t</span><span style='background-color:green'>o</span><span style='background-color:green'>r</span><span style='background-color:green'>s</span><span style='background-color:green'>o</span>"
      ],
      "text/plain": [
       "<IPython.core.display.HTML object>"
      ]
     },
     "metadata": {},
     "output_type": "display_data"
    },
    {
     "name": "stdout",
     "output_type": "stream",
     "text": [
      "Congratulations!\n"
     ]
    }
   ],
   "source": [
    "wordle()"
   ]
  },
  {
   "cell_type": "code",
   "execution_count": null,
   "id": "0e7a2513-b2d4-44db-a3be-df876f04e10c",
   "metadata": {},
   "outputs": [],
   "source": []
  }
 ],
 "metadata": {
  "kernelspec": {
   "display_name": "Python 3",
   "language": "python",
   "name": "python3"
  },
  "language_info": {
   "codemirror_mode": {
    "name": "ipython",
    "version": 3
   },
   "file_extension": ".py",
   "mimetype": "text/x-python",
   "name": "python",
   "nbconvert_exporter": "python",
   "pygments_lexer": "ipython3",
   "version": "3.9.4"
  },
  "widgets": {
   "application/vnd.jupyter.widget-state+json": {
    "state": {},
    "version_major": 2,
    "version_minor": 0
   }
  }
 },
 "nbformat": 4,
 "nbformat_minor": 5
}
